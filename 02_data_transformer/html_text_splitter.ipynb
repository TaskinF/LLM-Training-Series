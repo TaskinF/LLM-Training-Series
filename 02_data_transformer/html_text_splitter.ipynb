{
 "cells": [
  {
   "cell_type": "markdown",
   "metadata": {},
   "source": [
    "#### HTML Text Splitter"
   ]
  },
  {
   "cell_type": "code",
   "execution_count": 1,
   "metadata": {},
   "outputs": [
    {
     "data": {
      "text/plain": [
       "[Document(metadata={'Header 1': 'Foo'}, page_content='Foo'),\n",
       " Document(metadata={'Header 1': 'Foo'}, page_content='Some intro text about Foo.'),\n",
       " Document(metadata={'Header 1': 'Foo', 'Header 2': 'Bar main section'}, page_content='Bar main section'),\n",
       " Document(metadata={'Header 1': 'Foo', 'Header 2': 'Bar main section'}, page_content='Some intro text about Bar.'),\n",
       " Document(metadata={'Header 1': 'Foo', 'Header 2': 'Bar main section', 'Header 3': 'Bar subsection 1'}, page_content='Bar subsection 1'),\n",
       " Document(metadata={'Header 1': 'Foo', 'Header 2': 'Bar main section', 'Header 3': 'Bar subsection 1'}, page_content='Some text about the first subtopic of Bar.'),\n",
       " Document(metadata={'Header 1': 'Foo', 'Header 2': 'Bar main section', 'Header 3': 'Bar subsection 2'}, page_content='Bar subsection 2'),\n",
       " Document(metadata={'Header 1': 'Foo', 'Header 2': 'Bar main section', 'Header 3': 'Bar subsection 2'}, page_content='Some text about the second subtopic of Bar.'),\n",
       " Document(metadata={'Header 1': 'Foo', 'Header 2': 'Baz'}, page_content='Baz'),\n",
       " Document(metadata={'Header 1': 'Foo'}, page_content='Some text about Baz  \\nSome concluding text about Foo')]"
      ]
     },
     "execution_count": 1,
     "metadata": {},
     "output_type": "execute_result"
    }
   ],
   "source": [
    "from langchain_text_splitters import HTMLHeaderTextSplitter\n",
    "\n",
    "html_string = \"\"\"\n",
    "<!DOCTYPE html>\n",
    "<html>\n",
    "<body>\n",
    "    <div>\n",
    "        <h1>Foo</h1>\n",
    "        <p>Some intro text about Foo.</p>\n",
    "        <div>\n",
    "            <h2>Bar main section</h2>\n",
    "            <p>Some intro text about Bar.</p>\n",
    "            <h3>Bar subsection 1</h3>\n",
    "            <p>Some text about the first subtopic of Bar.</p>\n",
    "            <h3>Bar subsection 2</h3>\n",
    "            <p>Some text about the second subtopic of Bar.</p>\n",
    "        </div>\n",
    "        <div>\n",
    "            <h2>Baz</h2>\n",
    "            <p>Some text about Baz</p>\n",
    "        </div>\n",
    "        <br>\n",
    "        <p>Some concluding text about Foo</p>\n",
    "    </div>\n",
    "</body>\n",
    "</html>\n",
    "\"\"\"\n",
    "\n",
    "headers_to_split_on=[\n",
    "    (\"h1\",\"Header 1\"),\n",
    "    (\"h2\",\"Header 2\"),\n",
    "    (\"h3\",\"Header 3\")\n",
    "]\n",
    "\n",
    "html_splitter=HTMLHeaderTextSplitter(headers_to_split_on)\n",
    "html_header_splits=html_splitter.split_text(html_string)\n",
    "html_header_splits\n"
   ]
  },
  {
   "cell_type": "code",
   "execution_count": 7,
   "metadata": {},
   "outputs": [
    {
     "data": {
      "text/plain": [
       "[Document(metadata={}, page_content='mobile end  \\ngoogletag.cmd.push(() => { googletag.display(\"div-gpt-ad-2337006-3\"); });  \\ngoogletag.cmd.push(() => { googletag.display(\"div-gpt-ad-2337006-4\"); });  \\nlogo   \\n \\n  domainswitcher   \\n \\n  live  \\n \\n  Search  \\n \\n  login button  \\nKeşfet  \\nTransferler ve Söylentiler  \\nPiyasa değerleri  \\nMüsabakalar  \\nİstatistikler  \\nTopluluk  \\nOyunlar  \\nÖneriler'),\n",
       " Document(metadata={'Header 2': 'Futbolcu menajerleri'}, page_content='Futbolcu menajerleri'),\n",
       " Document(metadata={}, page_content='Ajans desteği  \\nAjans bilgileri  \\nPremium servis  \\nSon transferler  \\nDedikodu Kazanı  \\nTüm haberler  \\nDeğerim kaç?  \\nDünya genelinde en değerli oyuncular  \\nEn değerli oyuncular: Süper Lig  \\nPiyasa değeri analizi  \\nBonservisi elinde olan futbolcular  \\nBiten sözleşmeler  \\ngoogletag.cmd.push(() => { googletag.display(\"div-gpt-ad-2337006-5\"); });  \\ngoogletag.cmd.push(() => { googletag.display(\"div-gpt-ad-1646721508756-0\"); });  \\n{\\n        \"@context\": \"https://schema.org\",\\n        \"@type\": \"Organization\",\\n        \"name\": \"Transfermarkt\",\\n        \"url\": \"https://www.transfermarkt.com.tr\",\\n        \"logo\": \"https://tmsi.akamaized.net/head/tm_logo_rebrush.svg\"\\n    }  \\nkey_0_set_spotlight \\n \\n \\n  key_1_set_newsticker \\n \\n  key_2_set_wettbewerb \\n \\n  key_3_set_wm_teaser \\n \\n  key_4_set_wettbewerb \\n \\n  key_5_set_transfers \\n \\n  key_6_set_wettbewerb \\n \\n  key_7_set_statistiken \\n \\n  key_8_set_wettbewerb \\n \\n  key_9_set_wettbewerb \\n \\n  key_10_set_community \\n \\n  key_11_set_wettbewerb \\n \\n  key_12_set_immerBesser \\n \\n  key_13_set_confeds'),\n",
       " Document(metadata={'Header 1': 'Transfermarkt - Futbol üzerine her şey: Piyasa Değerleri, Söylentiler, Transferler, İstatistikler ve Haberler'}, page_content='Transfermarkt - Futbol üzerine her şey: Piyasa Değerleri, Söylentiler, Transferler, İstatistikler ve Haberler'),\n",
       " Document(metadata={'Header 1': 'Transfermarkt - Futbol üzerine her şey: Piyasa Değerleri, Söylentiler, Transferler, İstatistikler ve Haberler'}, page_content='Gündem  \\nÖneriler:  \\nGünün haberleri  \\nGünün karşılaşmaları  \\nTransfer rekorları  \\nGöztepe  \\n©  \\nScoutlar takip ediyor  \\nFeyenoord’un Rômulo ilgisi sürüyor – Göztepe\\'nin en yüksek satışı olabilir  \\nTM/IMAGO  \\n©  \\n10 maç ve üzeri oynayanlar  \\nSüper Lig müsabakasında henüz golle tanışmayan futbolcular  \\nGaziantep FK  \\n©  \\nTransfer akışları  \\nSüper Lig’den ayrılan futbolcular hangi liglere transfer oluyor? 2024/25 sezonu  \\nTFF  \\n©  \\nTürkiye yükselişte  \\nFIFA Dünya sıralaması güncellendi – Türkiye bir basamak yükseldi  \\nTFF  \\n©  \\nSağ bek adayı  \\nFenerbahçe, Taha Şahin’i transfer listesine ekledi – Süper Lig’in en skorer sağ beklerinden  \\nTFF  \\n©  \\nKiralık olarak gitmişti  \\nFreiburg, Berkay Yılmaz’ı geri çağırabilir – Nürnberg’de başarılı performans sergiliyor  \\nTM/IMAGO  \\n©  \\nPiyasa değeri güncellemesi  \\n1.Lig’de en değerli futbolcular açıklandı – Diarra ve Tresor Doh’un değerleri arttı  \\nTM/IMAGO  \\n©  \\nAra güncelleme  \\nArjantin’de Cristian Medina değer kaybetti - Loyola ve Lomónaco yükselişte  \\nTM/IMAGO  \\n©  \\nGençlere güvenen sistem  \\nTürk kulüplerine örnek bir kadro yapılanması - Strasbourg’un başarı formülü  \\ngoogletag.cmd.push(() => { googletag.display(\"div-gpt-ad-7564369-0\"); });  \\nİçerikler YouTube’da!  \\nTransfermarkt.com.tr\\'nin içeriklerini artık YouTube\\'da bulabilirsiniz  \\nkupa golcüleri  \\nTürkiye Kupası\\'nda en çok gol atan futbolcular  \\nYeni değerler  \\n1.Lig\\'in en değerli futbolcuları belli oldu  \\ngoogletag.cmd.push(() => { googletag.display(\"div-gpt-ad-2337006-6\"); });  \\nSon Haberler  \\n03.04.2025 - 18:09  \\nScoutlar takip ediyor  \\nFeyenoord’un Rômulo ilgisi sürüyor – Göztepe\\'nin en yüksek satışı olabilir  \\n03.04.2025 - 16:59  \\n10 maç ve üzeri oynayanlar  \\nSüper Lig müsabakasında henüz golle tanışmayan futbolcular  \\n03.04.2025 - 13:43  \\nTransfer akışları  \\nSüper Lig’den ayrılan futbolcular hangi liglere transfer oluyor? 2024/25 sezonu  \\n03.04.2025 - 11:39  \\nTürkiye yükselişte  \\nFIFA Dünya sıralaması güncellendi – Türkiye bir basamak yükseldi  \\n03.04.2025 - 11:16  \\nSağ bek adayı  \\nFenerbahçe, Taha Şahin’i transfer listesine ekledi – Süper Lig’in en skorer sağ beklerinden  \\n03.04.2025 - 10:17  \\nKiralık olarak gitmişti  \\nFreiburg, Berkay Yılmaz’ı geri çağırabilir – Nürnberg’de başarılı performans sergiliyor  \\n02.04.2025 - 18:11  \\nAra güncelleme  \\nArjantin’de Cristian Medina değer kaybetti - Loyola ve Lomónaco yükselişte  \\n02.04.2025 - 16:25  \\nGençlere güvenen sistem  \\nTürk kulüplerine örnek bir kadro yapılanması - Strasbourg’un başarı formülü  \\n02.04.2025 - 14:00  \\nPiyasa değeri güncellemesi  \\n1.Lig’de en değerli futbolcular açıklandı – Diarra ve Tresor Doh’un değerleri arttı  \\n02.04.2025 - 13:54  \\nSahne onların  \\nDerbinin değerli yıldızları - Fenerbahçe & Galatasaray derbisinde milyon €\\'luk kapışma  \\n02.04.2025 - 13:09  \\nAvrupa Ligi\\'ne gidebilir  \\n8 milyon € kadro değeri olan Bielefeld, 644 milyon €’luk Leverkusen’i eledi  \\n02.04.2025 - 12:44  \\nDeğeri 35 mil. € oldu  \\nDortmund, Rayan Cherki için üçüncü kez devrede - Yazın \"Çilek transferi\" olabilir  \\nGünün tüm haberleri'),\n",
       " Document(metadata={'Header 1': 'Transfermarkt - Futbol üzerine her şey: Piyasa Değerleri, Söylentiler, Transferler, İstatistikler ve Haberler', 'Header 2': 'En çok okunan haberler'}, page_content='En çok okunan haberler'),\n",
       " Document(metadata={'Header 1': 'Transfermarkt - Futbol üzerine her şey: Piyasa Değerleri, Söylentiler, Transferler, İstatistikler ve Haberler', 'Header 2': 'En çok okunan haberler'}, page_content=\"Türkiye yükselişte  \\nFIFA Dünya sıralaması güncellendi – Türkiye bir basamak yükseldi  \\nPiyasa değeri güncellemesi  \\n1.Lig’de en değerli futbolcular açıklandı – Diarra ve Tresor Doh’un değerleri arttı  \\nScoutlar takip ediyor  \\nFeyenoord’un Rômulo ilgisi sürüyor – Göztepe'nin en yüksek satışı olabilir  \\n10 maç ve üzeri oynayanlar  \\nSüper Lig müsabakasında henüz golle tanışmayan futbolcular  \\nSağ bek adayı  \\nFenerbahçe, Taha Şahin’i transfer listesine ekledi – Süper Lig’in en skorer sağ beklerinden  \\nTransfer akışları  \\nSüper Lig’den ayrılan futbolcular hangi liglere transfer oluyor? 2024/25 sezonu  \\nTürkiye Kupası  \\nÖneriler:  \\nTüm şampiyonlar  \\nEn golcüler  \\nEn fazla forma giyenler  \\nŞampiyon teknik direktörler  \\nGüncel tur: Çeyrek final  \\nTarih  \\nEv sahibi takım  \\nKonuk takım  \\nSal  \\n1 Nis 2025  \\nKonyaspor  \\n3:0  \\nİskenderunspor  \\nÇar  \\n2 Nis 2025  \\nTrabzonspor  \\n3:2  \\nUZT  \\nBodrum FK  \\nFenerbahçe  \\n1:2  \\nGalatasaray  \\nPer  \\n3 Nis 2025  \\nBeşiktaş  \\n1:3  \\nGöztepe  \\nTüm detaylar  \\nEn değerli takımlar  \\nKulüp  \\nKadro Değeri  \\nGalatasaray  \\n266.25  \\nmil. €  \\nFenerbahçe  \\n235.30  \\nmil. €  \\nBeşiktaş  \\n117.90  \\nmil. €  \\n...  \\nTüm katılanlar  \\nKulüp bulamadılar  \\nSözleşmesi elinde olan en değerli futbolcular  \\nBursaspor 2. sırada  \\nTürkiye profesyonel liglerinde en çok seyirci çeken takımlar  \\nsözleşmeleri bitiyor  \\n2025'te sözleşmesi bitecek olan en değerli futbolcular  \\nSüper Lig  \\nÖneriler:  \\nTüm şampiyonlar  \\nEn golcüler  \\nEn fazla forma giyenler  \\nŞampiyon teknik direktörler  \\n30. haftanın maçları  \\nTarih  \\nEv sahibi takım  \\nKonuk takım  \\nCum  \\n4 Nis 2025  \\nAdana Demirspor  \\n20:00  \\nKayserispor  \\nCmt  \\n5 Nis 2025  \\nÇ. Rizespor  \\n13:30  \\nSivasspor  \\nBaşakşehir  \\n16:00  \\nKonyaspor  \\nAntalyaspor  \\n19:00  \\nSamsunspor  \\nPaz  \\n6 Nis 2025  \\nAlanyaspor  \\n13:30  \\nBodrum FK  \\nHatayspor  \\n16:00  \\nEyüpspor  \\nFenerbahçe  \\n19:00  \\nTrabzonspor  \\nPzt  \\n7 Nis 2025  \\nGöztepe  \\n20:00  \\nGaziantep FK  \\nKasımpaşa  \\n20:00  \\nBeşiktaş  \\nTüm detaylar  \\nTransferler  \\nEn pahalı transferler  \\nOyuncu/Mevki  \\nKulüp  \\nBonservis  \\n222.00  \\nmil. €  \\nNeymar  \\nSol Kanat  \\n180.00  \\nmil. €  \\nKylian Mbappé  \\nSantrafor  \\n135.00  \\nmil. €  \\nP. Coutinho  \\nOn Numara  \\n135.00  \\nmil. €  \\nO. Dembélé  \\nSağ Kanat  \\n127.20  \\nmil. €  \\nJoão Félix  \\nForvet Arkası  \\nEn flaş transferler  \\nKış transfer gideri  \\nKulüp/Müsabaka  \\nGider  \\n218.00  \\nmil. €  \\nMan City  \\nPremier League  \\n77.00  \\nmil. €  \\nAl-Nassr  \\nSaudi Pro League  \\n74.65  \\nmil. €  \\nRennes  \\nLigue 1  \\n70.95  \\nmil. €  \\nPalmeiras  \\nSérie A  \\n70.00  \\nmil. €  \\nPSG  \\nLigue 1  \\nTüm detaylar  \\nEn flaş kış transferleri 24/25  \\nOyuncu/Mevki  \\nKulüp  \\nBonservis  \\n70.00  \\nmil. €  \\nK. Kvaratskhelia  \\nSol Kanat  \\n50.00  \\nmil. €  \\nXavi Simons  \\nOn Numara  \\n77.00  \\nmil. €  \\nJhon Durán  \\nSantrafor  \\n75.00  \\nmil. €  \\nOmar Marmoush  \\nSantrafor  \\n60.00  \\nmil. €  \\nNico González  \\nMerkez Orta Saha  \\nTüm kış transferler  \\nPremier League  \\n30. haftanın maçları  \\nTarih  \\nEv sahibi takım  \\nKonuk takım  \\nSal  \\n1 Nis 2025  \\nArsenal  \\n2:1  \\nFulham  \\nWolves  \\n1:0  \\nWest Ham  \\nNottingham  \\n1:0  \\nMan United  \\nÇar  \\n2 Nis 2025  \\nBournemouth  \\n1:2  \\nIpswich  \\nBrighton  \\n0:3  \\nAston Villa  \\nMan City  \\n2:0  \\nLeicester  \\nNewcastle  \\n2:1  \\nBrentford  \\nSouthampton  \\n1:1  \\nCrystal Palace  \\nLiverpool  \\n1:0  \\nEverton  \\nPer  \\n3 Nis 2025  \\nChelsea  \\n1:0  \\nTottenham  \\nTüm detaylar  \\nİstatistikler  \\nÖneriler:  \\nOyuncu karşılaştırması  \\nAvrupa'daki asist kralları  \\nUluslararası form tablosu  \\nEn sadık oyuncular  \\nEn değerli oyuncular  \\nOyuncu/Mevki  \\nKulüp  \\nPiyasa Değeri  \\n200.00  \\nmil. €  \\nErling Haaland  \\nSantrafor  \\n200.00  \\nmil. €  \\nVinicius Junior  \\nSol Kanat  \\n180.00  \\nmil. €  \\nLamine Yamal  \\nSağ Kanat  \\n180.00  \\nmil. €  \\nJude Bellingham  \\nOn Numara  \\n170.00  \\nmil. €  \\nKylian Mbappé  \\nSantrafor  \\nİlk 100  \\nMart ayının en golcü futbolcuları  \\nOyuncu  \\nKulüp  \\nGol  \\n7  \\nV. Gyökeres  \\nSantrafor  \\n6  \\nVictor Osimhen  \\nSantrafor  \\n5  \\nR. Lewandowski  \\nSantrafor  \\n5  \\nKylian Mbappé  \\nSantrafor  \\n5  \\nLucas Stassin  \\nSantrafor  \\nAyın tüm golcüleri  \\nUEFA Ülke Puanı Sıralaması  \\nÜlke/Puan 23/24  \\nPuan  \\n109.982  \\nİngiltere  \\n24.250 puan  \\n95.293  \\nİtalya  \\n19.937 puan  \\n92.239  \\nİspanya  \\n21.678 puan  \\n85.831  \\nAlmanya  \\n17.921 puan  \\n71.379  \\nFransa  \\n16.214 puan  \\nUEFA Ülke Puanı Sıralaması  \\nLaLiga  \\n30. haftanın maçları  \\nTarih  \\nEv sahibi takım  \\nKonuk takım  \\nCum  \\n4 Nis 2025  \\nRayo  \\n22:00  \\nEspanyol  \\nCmt  \\n5 Nis 2025  \\nGirona  \\n15:00  \\nAlavés  \\nReal Madrid  \\n17:15  \\nValencia  \\nMallorca  \\n19:30  \\nCelta Vigo  \\nBarcelona  \\n22:00  \\nReal Betis  \\nPaz  \\n6 Nis 2025  \\nLas Palmas  \\n15:00  \\nSociedad  \\nSevilla  \\n17:15  \\nAtlético Madrid  \\nValladolid  \\n19:30  \\nGetafe  \\nVillarreal  \\n22:00  \\nBilbao  \\nPzt  \\n7 Nis 2025  \\nLeganés  \\n22:00  \\nOsasuna  \\nTüm detaylar  \\nSerie A  \\nÖneriler:  \\nTüm şampiyonlar  \\nEn golcüler  \\nEn fazla forma giyenler  \\nŞampiyon teknik direktörler  \\n31. haftanın maçları  \\nTarih  \\nEv sahibi takım  \\nKonuk takım  \\nCum  \\n4 Nis 2025  \\nGenoa  \\n21:45  \\nUdinese  \\nCmt  \\n5 Nis 2025  \\nMonza  \\n16:00  \\nComo  \\nParma  \\n19:00  \\nInter  \\nMilan  \\n21:45  \\nFiorentina  \\nPaz  \\n6 Nis 2025  \\nLecce  \\n13:30  \\nVenezia  \\nEmpoli  \\n16:00  \\nCagliari  \\nTorino  \\n16:00  \\nVerona  \\nAtalanta  \\n19:00  \\nLazio  \\nRoma  \\n21:45  \\nJuventus  \\nPzt  \\n7 Nis 2025  \\nBologna  \\n21:45  \\nNapoli  \\nTüm detaylar  \\nForumlar  \\nForumlardan okumaya değer yorumlar  \\n-  \\nPiyasa Değer Analizi  \\nMalheiro, Pedro (5,5 mil. €, Trabzonspor)  \\nyazıyor:  \\nBalamirrr  \\nDaha iyi takımlarda daha iyi performans verecektir. Trabzon’da sezonun en iyilerinden diyebiliriz. Hücuma katkısı iyi, savunma yönü ortalama ve bence fizik olarakta iyi sayılabilir. Değeri yükselmeye devam edecektir. Pasaportu ve oynadığı genç takımlar piyasasını da yüksektir. [...]  \\n... devamı oku  \\n-  \\nPiyasa Değer Analizi  \\nEğribayat, İrfan Can (2,5 mil. €, Fenerbahçe)  \\nyazıyor:  \\nBalamirrr  \\nAnlık iyi performansı vardı ama bence şuan eski haline döndü ve bu  sürdürülebilir bir performans değil bence. 27 yaşına geldi kariyerinde iki kez 30 maç üstü oynadığı sezon var. İrfanın yaşını bilmesem 21-22 yaşında zannederim. Bu yaşa kadar çoktan olgunlaşması lazımdı. Hiç bir hoca zorunda kalmadıkça sezona İrfanla başlamaz önüne kaleci ister. Şuan asla kötü demiyorum iyi de performansı var ama abartılacak bir durum yok.  Neden  mili takıma alınmadı falan bana komik geliyor Berke, Uğurcan, Mert falan bunun çok üzerinde bir kaleci. [...]  \\n... devamı oku  \\n-  \\nPiyasa Değer Analizi  \\nDžeko, Edin (2 mil. €, Fenerbahçe)  \\nyazıyor:  \\nBalamirrr  \\nMentali kuvvetli bir Dzeko Fenerbahçe’nin 1. Santraforu olmalıdır. En nesyriden 2-3 gömlek üstün bir oyuncu bu yaşında. Dzeko olmayınca Fenerbahçe’nin üretkenliği düşüyor, hücumda pres ve direnci olmuyor. Dzeko ortasahaya kadar gelip top dağıtıyor, oyun kuruyor bu özelliğini çok beğeniyorum. \\nFenerbahçeli arkadaşlar beğenmiyor ama Dzeko, 31 yaşındaki Taliscadan ve 28 yaşındaki En Nesyriden daha çok mücadele ediyor hatta ikisine göre de daha fit ve güçlü. [...]  \\n... devamı oku  \\n-  \\nPiyasa Değer Analizi  \\nDžeko, Edin (2 mil. €, Fenerbahçe)  \\nyazıyor:  \\nBalamirrr  \\nMentali kuvvetli bir Dzeko Fenerbahçe’nin 1. Santraforu olmalıdır. En nesyriden 2-3 gömlek üstün bir oyuncu bu yaşında. Dzeko olmayınca Fenerbahçe’nin üretkenliği düşüyor, hücumda pres ve direnci olmuyor. Dzeko ortasahaya kadar gelip top dağıtıyor, oyun kuruyor bu özelliğini çok beğeniyorum. \\nFenerbahçeli arkadaşlar beğenmiyor ama Dzeko, 31 yaşındaki Taliscadan ve 28 yaşındaki En Nesyriden daha çok mücadele ediyor hatta ikisine göre de daha fit ve güçlü. [...]  \\n... devamı oku  \\n-  \\nPiyasa Değer Analizi  \\nSara, Gabriel (22 mil. €, Galatasaray)  \\nyazıyor:  \\nBalamirrr  \\nDün sahanın en iyilerindendi gol pozisyonuna da girdi kaçırdı hatta birinde Fred baldırına ceza sahası içinde tekme attığı için kaçırdı ama genel olarak çok iyiydi. Amrabat ve Szymanskiye büyük üstünlük kurdu. Böyle devam ederse değeri artar. Bu arada Galatasaray futbolcusu 4-5 maç formsuz olunca hemen düşürme huyundan vazgeçin. [...]  \\n... devamı oku  \\n-  \\nUluslararası dedikodu kazanı  \\nFilip Kostić: Fenerbahçe, oyuncunun bonservisini almak istiyor  \\nyazıyor:  \\nTheBestGoodMan  \\nBen 30 yaş üstü futbolculara bonservis verilmesine karşıyım ama kostic iğne deliğinden orta açan adam alınacaksa 4-5 milyondan fazla bonservis verilmemeli büyük ihtimal kontratı aldıktan sonra da ligi salma ihtimali yüksek son kontratı biz oluruz  o yüzden fazlada maaş verilmemeli. [...]  \\n... devamı oku  \\nSempati listesi  \\nHangisini tercih edersin?  \\nAlex Oxlade-Chamberlain  \\nBerkay Özcan  \\nPiyasa değeri güncellemesi  \\nOyuncu/Mevki  \\nKulüp  \\nPiyasa Değeri  \\n3.00  \\nmil. €  \\nRodrigão  \\nStoper  \\n2.50  \\nmil. €  \\nDaniel Amartey  \\nStoper  \\n2.50  \\nmil. €  \\nÁlvaro Valles  \\nKaleci  \\n2.50  \\nmil. €  \\nW. Ben Yedder  \\nSantrafor  \\n2.00  \\nmil. €  \\nJason Denayer  \\nStoper  \\nTüm değişiklikler  \\nGüncel Piyasa Değeri tartışması  \\nOyuncu  \\nKulüp  \\nYorumlar  \\nBurak Bozan  \\n275 bin €  \\n3  \\nİ. Eğribayat  \\n2.50 mil. €  \\n4  \\nÇ. Söyüncü  \\n8.00 mil. €  \\n3  \\nM. Eskihellaç  \\n1.50 mil. €  \\n2  \\nSofyan Amrabat  \\n20.00 mil. €  \\n4  \\nPiyasa değeri analizi  \\nTM Veri çeşitliği  \\nVeriler  \\nVeri miktarı  \\nKulüp sayısı  \\n119.065  \\nOyuncu sayısı  \\n1.292.555  \\nGörevli sayısı  \\n131.813  \\nHakem sayısı  \\n78.992  \\nLig sayısı  \\n1.245  \\nKupa müsabakası sayısı  \\n938  \\nKarşılaşma sayısı  \\n2.630.444  \\nMaç raporu sayısı  \\n2.079.226  \\nDetay arayışı  \\n1.Lig  \\n32. haftanın maçları  \\nTarih  \\nEv sahibi takım  \\nKonuk takım  \\nCum  \\n4 Nis 2025  \\nİstanbulspor  \\n17:00  \\nY. Malatyaspor  \\nŞanlıurfaspor  \\n20:00  \\nBoluspor  \\nAmed SK  \\n20:00  \\nIğdır FK  \\nCmt  \\n5 Nis 2025  \\nManisa FK  \\n13:30  \\nA. Keçiörengücü  \\nSakaryaspor  \\n16:00  \\nAdanaspor  \\nÇorum FK  \\n19:00  \\nE. Erokspor  \\nKaragümrük  \\n19:00  \\nErzurumspor FK  \\nPaz  \\n6 Nis 2025  \\nÜmraniyespor  \\n13:30  \\nPendikspor  \\nBandırmaspor  \\n16:00  \\nKocaelispor  \\nAnkaragücü  \\n19:00  \\nGençlerbirliği  \\nTüm detaylar  \\nÖne çıkan istatistikler  \\nÖneriler:  \\nKatılan takımlar  \\nŞampiyonlar Ligin tüm şampiyonlar  \\nprofilini oluştur  \\nTM/IMAGO  \\n©  \\nTransfermarkt'ta hesap oluştur ve takip ettiğin futbolcuları bir stadyumda topla!  \\nTransfermarkt veritabanı  \\nVeriler  \\nVeri miktarı  \\nKulüp sayısı  \\n119.065  \\nOyuncu sayısı  \\n1.292.555  \\nGörevli sayısı  \\n131.813  \\nHakem sayısı  \\n78.992  \\nLig sayısı  \\n1.245  \\nKupa müsabakası sayısı  \\n938  \\nKarşılaşma sayısı  \\n2.630.444  \\nMaç raporu sayısı  \\n2.079.226  \\nDetay arayışı  \\nalt liglere göz at  \\nTürkiye'deki tüm müsabakaları görmek için tıklayınız  \\nFutbol bilginizi konuşturun  \\nTransfermarkt'tan yeni futbol quiz'i - 'Who am I?' oyunu başladı  \\nTahmin Ligi  \\nSüper Lig yarışmasına katılmak için tıklayın\"),\n",
       " Document(metadata={'Header 1': 'Transfermarkt - Futbol üzerine her şey: Piyasa Değerleri, Söylentiler, Transferler, İstatistikler ve Haberler', 'Header 2': 'Konfederasyonlar'}, page_content='Konfederasyonlar'),\n",
       " Document(metadata={'Header 1': 'Transfermarkt - Futbol üzerine her şey: Piyasa Değerleri, Söylentiler, Transferler, İstatistikler ve Haberler', 'Header 2': 'Konfederasyonlar'}, page_content='Avrupa  \\nGüney Amerika  \\nKuzey Amerika  \\nAsya  \\nAfrika  \\nOkyanusya'),\n",
       " Document(metadata={'Header 1': 'Transfermarkt - Futbol üzerine her şey: Piyasa Değerleri, Söylentiler, Transferler, İstatistikler ve Haberler', 'Header 2': 'var!'}, page_content='var!'),\n",
       " Document(metadata={}, page_content='Yeni haberlerimiz  \\nAna sayfayı güncelle  \\nTekrar gösterilmesin  \\nHızlı bağlantılar  \\nDünya genelinde en değerli oyuncular  \\nSon transferler  \\nSon söylentiler  \\nSon piyasa değeri güncellemesi  \\nFIFA Dünya Sıralaması  \\nSen de dahil ol  \\nModeratörler ve Veri Gözlemcisi  \\nModeratör veya Veri Gözlemcisi olarak başvur  \\n11 Kural  \\nHata raporu gönder  \\nBize Ulaşın  \\nİletişim  \\nHakkımızda  \\nTransfermarkt ekibi  \\nSSS  \\nSosyal Medya  \\nTransfermarkt şirketin projeleri  \\nWahretabelle  \\nSoccerDonna.de  \\nScoutastic.com  \\n© Transfermarkt  \\n2025  \\nİletişim  \\nVeri koruma  \\nMahremiyet  \\nTakip İznini Geri Çekme  \\nSite politikası  \\nif(typeof(adet) == \"boolean\" && adet == false){\\n\\t\\timg_src=\"/static/singlepictures/jk99hhfsdh209nbnkjldgh90sghfsdlk\";\\n\\t} else {\\n\\t\\timg_src=\"/static/singlepictures/jku90whjlkjbwbta1g4b8h89fh8sgh8d\";\\n\\t}\\n\\tvar elem = document.createElement(\"img\");\\n\\tdocument.body.appendChild(elem);\\n\\telem.src = img_src;  \\nTakip İznini Geri Çekme  \\nTransfermarkt’i çerezler ve takip kullanımıyla ilgili izninizi başarıyla geri çektin. Şimdi Contentpass aboneliği ile kullanım veya kişiselleştirilmiş reklamlar, çerezler ve takip ile kullanım arasında seçim yapabilirsin.  \\n/*<![CDATA[*/\\n        function setCookie(cname, cvalue, exdays) {\\n          var d = new Date();\\n          d.setTime(d.getTime() + (exdays*24*60*60*1000));\\n          var expires = \"expires=\"+d.toUTCString();\\n          document.cookie = cname + \"=\" + cvalue + \"; \" + expires + \"; path=/\";\\n         }\\n\\n        function getCookie(cname) {\\n          var name = cname + \"=\";\\n          var ca = document.cookie.split(\\';\\');\\n          for(var i=0; i<ca.length; i++) {\\n            var c = ca[i];\\n            while (c.charAt(0)==\\' \\') c = c.substring(1);\\n            if (c.indexOf(name) != -1) return c.substring(name.length,c.length);\\n          }\\n          return \"\";\\n        }\\n\\n        $(\\'#news-update-popup-unsubscribe\\').change(function() {\\n          setCookie(\"_tmnup\", 1, 365);\\n          MicroModal.close(\\'modal-news-update-popup\\');\\n        });\\n\\n        $(function(){\\n          var intervalID;\\n          var freqSecs = 60;\\n          var _tmnupchk = parseInt(getCookie(\"_tmnup\"));\\n          if(_tmnupchk !== 1) {\\n            intervalID = setInterval(function () {\\n              $.get(\"/seo/checkNeueNewsStartseite/site/452202\", function(data) {\\n                if(data == 1 && document.getElementById(\\'modal-news-update-popup\\')) {\\n                  MicroModal.show(\\'modal-news-update-popup\\');\\n                  clearInterval(intervalID);\\n                }\\n              });\\n            }, freqSecs*1000);\\n          }\\n        });\\n\\tvar loginUrl=\\'/profil/login\\';\\n\\tvar onlyDE = \\'\\';\\n\\tvar onlyMobile = \\'\\';\\n\\tvar onlyTablet = \\'\\';\\n\\tvar getUserID = \\'\\';\\n\\noddsServe(\"8b7ecddd3b6e5b2a65deb466d60355a7\", -1);\\n/*]]>*/')]"
      ]
     },
     "execution_count": 7,
     "metadata": {},
     "output_type": "execute_result"
    }
   ],
   "source": [
    "url = \"https://www.transfermarkt.com.tr/\"\n",
    "\n",
    "headers_to_split_on = [\n",
    "    (\"h1\", \"Header 1\"),\n",
    "    (\"h2\", \"Header 2\"),\n",
    "    (\"h3\", \"Header 3\"),\n",
    "    (\"h4\", \"Header 4\"),\n",
    "]\n",
    "html_splitter = HTMLHeaderTextSplitter(headers_to_split_on)\n",
    "html_header_splits = html_splitter.split_text_from_url(url)\n",
    "html_header_splits"
   ]
  }
 ],
 "metadata": {
  "kernelspec": {
   "display_name": "venv",
   "language": "python",
   "name": "python3"
  },
  "language_info": {
   "codemirror_mode": {
    "name": "ipython",
    "version": 3
   },
   "file_extension": ".py",
   "mimetype": "text/x-python",
   "name": "python",
   "nbconvert_exporter": "python",
   "pygments_lexer": "ipython3",
   "version": "3.12.5"
  }
 },
 "nbformat": 4,
 "nbformat_minor": 2
}
